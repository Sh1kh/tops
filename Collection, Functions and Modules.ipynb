{
 "cells": [
  {
   "cell_type": "code",
   "execution_count": 7,
   "id": "080da46d",
   "metadata": {},
   "outputs": [
    {
     "name": "stdout",
     "output_type": "stream",
     "text": [
      "[2, 33, 222, 14]\n",
      "14\n"
     ]
    }
   ],
   "source": [
    "# to remove last object from list\n",
    "list=[2,33,222,14,25]\n",
    "list.pop()#remove last object\n",
    "print(list)\n",
    "print(list[-1])#return last object"
   ]
  },
  {
   "cell_type": "code",
   "execution_count": 10,
   "id": "6e23b3f3",
   "metadata": {},
   "outputs": [
    {
     "name": "stdout",
     "output_type": "stream",
     "text": [
      "85\n",
      "21\n",
      "337\n"
     ]
    }
   ],
   "source": [
    "#python function to find  largest number, smallest number and sum of all from a list\n",
    "a=[22,55,21,42,47,65,85]\n",
    "print(max(a))#largest number\n",
    "print(min(a))#smallest number\n",
    "print(sum(a))#sum"
   ]
  },
  {
   "cell_type": "code",
   "execution_count": 12,
   "id": "454261cf",
   "metadata": {},
   "outputs": [
    {
     "name": "stdout",
     "output_type": "stream",
     "text": [
      "list is not empty\n"
     ]
    }
   ],
   "source": [
    "#program to check list is empty or not\n",
    "a=(\"hello\")\n",
    "if a == ():\n",
    "    print(\"list is empty\")\n",
    "    \n",
    "else:\n",
    "    print(\"list is not empty\")"
   ]
  },
  {
   "cell_type": "code",
   "execution_count": 2,
   "id": "a1e34838",
   "metadata": {},
   "outputs": [
    {
     "name": "stdout",
     "output_type": "stream",
     "text": [
      "vishal\n"
     ]
    }
   ],
   "source": [
    "#Write a Python program to select an item randomly from a list.  \n",
    "a=[\"shikha\",\"shruti\",\"vishal\",\"pooja\",\"seema\"]\n",
    "print(a[2])#randomly selecting item using indexing"
   ]
  },
  {
   "cell_type": "code",
   "execution_count": 27,
   "id": "4ff06ed8",
   "metadata": {},
   "outputs": [
    {
     "name": "stdout",
     "output_type": "stream",
     "text": [
      "['china']\n",
      "['delhi', 'america']\n",
      "['nepal']\n"
     ]
    }
   ],
   "source": [
    "#Write a Python program to split a list into different variables.\n",
    "a=[\"india\",\"china\",\"delhi\",\"america\",\"nepal\",\"punjab\"]\n",
    "var1=a[1:2]\n",
    "var2=a[2:4]\n",
    "var3=a[4:5]\n",
    "print( var1)\n",
    "print(var2)\n",
    "print(var3)"
   ]
  },
  {
   "cell_type": "code",
   "execution_count": 13,
   "id": "6bbd6f16",
   "metadata": {},
   "outputs": [
    {
     "name": "stdout",
     "output_type": "stream",
     "text": [
      "('apple', 'hello', 'banana', 10, 20, 30.5)\n"
     ]
    }
   ],
   "source": [
    "#tuple with different datatype\n",
    "tuple=(\"apple\",\"hello\",\"banana\",10,20,30.5)\n",
    "print(tuple)"
   ]
  },
  {
   "cell_type": "code",
   "execution_count": 14,
   "id": "355ccb7a",
   "metadata": {},
   "outputs": [
    {
     "name": "stdout",
     "output_type": "stream",
     "text": [
      "(20, 10.2, 50, 60, 40)\n"
     ]
    }
   ],
   "source": [
    "#tuple with number\n",
    "tuple=(20,10.2,50,60,40)\n",
    "print(tuple)"
   ]
  },
  {
   "cell_type": "code",
   "execution_count": 15,
   "id": "ceb95e5a",
   "metadata": {},
   "outputs": [
    {
     "name": "stdout",
     "output_type": "stream",
     "text": [
      "('apple', 'banana', 'mango', 'lichi')\n"
     ]
    }
   ],
   "source": [
    "#convert a tuple to a string\n",
    "a=(\"apple\",\"banana\",\"mango\",\"lichi\")\n",
    "print(a)"
   ]
  },
  {
   "cell_type": "code",
   "execution_count": 17,
   "id": "dcbd6ec6",
   "metadata": {},
   "outputs": [
    {
     "name": "stdout",
     "output_type": "stream",
     "text": [
      "4\n"
     ]
    }
   ],
   "source": [
    "# to find length of tuple\n",
    "a=(\"apple\",\"banana\",\"mango\",\"lichi\")\n",
    "print(len(a))"
   ]
  },
  {
   "cell_type": "code",
   "execution_count": 6,
   "id": "b9657e1d",
   "metadata": {},
   "outputs": [
    {
     "name": "stdout",
     "output_type": "stream",
     "text": [
      "('mango', 'apple', 'banana', 'orange', 'papaya')\n"
     ]
    }
   ],
   "source": [
    "#to convert a list to tuple\n",
    "a=[\"mango\",\"apple\",\"banana\",\"orange\",\"papaya\"]\n",
    "y=tuple(a)#list into tuple\n",
    "print(y)"
   ]
  },
  {
   "cell_type": "code",
   "execution_count": 27,
   "id": "82b818e5",
   "metadata": {},
   "outputs": [
    {
     "name": "stdout",
     "output_type": "stream",
     "text": [
      "('kolkata', 'mumbai', 'chennai', 'delhi')\n"
     ]
    }
   ],
   "source": [
    "#program to reverse a tuple\n",
    "a=(\"delhi\",\"chennai\",\"mumbai\",\"kolkata\")\n",
    "print(a[::-1])#reversing list using negative indexing"
   ]
  },
  {
   "cell_type": "code",
   "execution_count": 3,
   "id": "ec12b987",
   "metadata": {},
   "outputs": [
    {
     "name": "stdout",
     "output_type": "stream",
     "text": [
      "('delhi', 'kolkata', 'chennai', 'bengaluru', 'kerala')\n"
     ]
    }
   ],
   "source": [
    "#Write a Python program to replace last value of tuples in a list. \n",
    "a=(\"delhi\",\"kolkata\",\"chennai\",\"bengaluru\",\"punjab\")\n",
    "y=list(a)#convert tuple into list\n",
    "y[-1]=\"kerala\"\n",
    "a=tuple(y)#list into tuple\n",
    "print(a)"
   ]
  },
  {
   "cell_type": "code",
   "execution_count": null,
   "id": "71f25479",
   "metadata": {},
   "outputs": [],
   "source": [
    "#calculate the area of parallelogram\n",
    "base=int(input(\"enter the value of base\"))\n",
    "height=int(input(\"enter the value of height\"))\n",
    "a=base*height\n",
    "print(a)"
   ]
  },
  {
   "cell_type": "code",
   "execution_count": 7,
   "id": "9d2b1ee5",
   "metadata": {},
   "outputs": [
    {
     "name": "stdout",
     "output_type": "stream",
     "text": [
      "enter the value of r21\n",
      "enter the value of h5\n",
      "6923.7\n",
      "8572.199999999999\n"
     ]
    }
   ],
   "source": [
    "#calculate surface area and volume of cylinder\n",
    "r=int(input(\"enter the value of r\"))\n",
    "h=int(input(\"enter the value of h\"))\n",
    "volume=3.14*r*r*h\n",
    "print(volume)\n",
    "surface_area=3.14*r*h*(r+h)\n",
    "print(surface_area)\n",
    "\n"
   ]
  },
  {
   "cell_type": "code",
   "execution_count": 36,
   "id": "0d655ef1",
   "metadata": {},
   "outputs": [
    {
     "ename": "NameError",
     "evalue": "name 'counter' is not defined",
     "output_type": "error",
     "traceback": [
      "\u001b[1;31m---------------------------------------------------------------------------\u001b[0m",
      "\u001b[1;31mNameError\u001b[0m                                 Traceback (most recent call last)",
      "Cell \u001b[1;32mIn[36], line 4\u001b[0m\n\u001b[0;32m      2\u001b[0m d1\u001b[38;5;241m=\u001b[39m{\u001b[38;5;124m'\u001b[39m\u001b[38;5;124ma\u001b[39m\u001b[38;5;124m'\u001b[39m:\u001b[38;5;241m100\u001b[39m, \u001b[38;5;124m'\u001b[39m\u001b[38;5;124mb\u001b[39m\u001b[38;5;124m'\u001b[39m:\u001b[38;5;241m200\u001b[39m, \u001b[38;5;124m'\u001b[39m\u001b[38;5;124mc\u001b[39m\u001b[38;5;124m'\u001b[39m:\u001b[38;5;241m300\u001b[39m}\n\u001b[0;32m      3\u001b[0m d2\u001b[38;5;241m=\u001b[39m{\u001b[38;5;124m'\u001b[39m\u001b[38;5;124ma\u001b[39m\u001b[38;5;124m'\u001b[39m:\u001b[38;5;241m300\u001b[39m, \u001b[38;5;124m'\u001b[39m\u001b[38;5;124mb\u001b[39m\u001b[38;5;124m'\u001b[39m:\u001b[38;5;241m200\u001b[39m, \u001b[38;5;124m'\u001b[39m\u001b[38;5;124md\u001b[39m\u001b[38;5;124m'\u001b[39m:\u001b[38;5;241m400\u001b[39m}\n\u001b[1;32m----> 4\u001b[0m d3\u001b[38;5;241m=\u001b[39m (\u001b[43mcounter\u001b[49m(d1)\u001b[38;5;241m+\u001b[39mcounter(d2))\n\u001b[0;32m      5\u001b[0m \u001b[38;5;28mprint\u001b[39m(d3)\n",
      "\u001b[1;31mNameError\u001b[0m: name 'counter' is not defined"
     ]
    }
   ],
   "source": [
    "#def merge(d1,d2):\n",
    "d1={'a':100, 'b':200, 'c':300}\n",
    "d2={'a':300, 'b':200, 'd':400}\n",
    "d3= (counter(d1)+counter(d2))\n",
    "print(d3)\n"
   ]
  },
  {
   "cell_type": "code",
   "execution_count": 2,
   "id": "d3b0c873",
   "metadata": {},
   "outputs": [
    {
     "name": "stdout",
     "output_type": "stream",
     "text": [
      "number is not in a range\n"
     ]
    }
   ],
   "source": [
    "#Write a Python function to check whether a number is in a given range \n",
    "def test_range(num):\n",
    "    if num in range(20,30):\n",
    "        print(\"number is in a range\")\n",
    "    else:\n",
    "        print(\"number is not in a range\")\n",
    "test_range(45)"
   ]
  },
  {
   "cell_type": "code",
   "execution_count": 5,
   "id": "92c45c46",
   "metadata": {},
   "outputs": [
    {
     "name": "stdout",
     "output_type": "stream",
     "text": [
      "{'id': 1, 'name': 'shikha', 'gender': 'female', 'last_name': 'bansal'}\n"
     ]
    }
   ],
   "source": [
    "#Write a Python script to concatenate following dictionaries to create a new one.\n",
    "a={\"id\":1,\"name\":\"shikha\"}\n",
    "a.update({\"gender\":\"female\",\"last_name\":\"bansal\"})\n",
    "print(a)\n"
   ]
  },
  {
   "cell_type": "code",
   "execution_count": 9,
   "id": "edbb234a",
   "metadata": {},
   "outputs": [
    {
     "name": "stdout",
     "output_type": "stream",
     "text": [
      "[('apple', 'mango'), 'hello', ('abc', 'def')]\n"
     ]
    }
   ],
   "source": [
    "#Write a Python program to remove an empty tuple(s) from a list of tuples. \n",
    "a=[(\"apple\",\"mango\"),(),(\"hello\"),(\"abc\",\"def\")]\n",
    "a.remove(())\n",
    "print(a)"
   ]
  },
  {
   "cell_type": "code",
   "execution_count": 1,
   "id": "cd891e4e",
   "metadata": {},
   "outputs": [
    {
     "name": "stdout",
     "output_type": "stream",
     "text": [
      "[1, 4, 9, 16, 25]\n",
      "[625, 676, 729, 784, 841]\n"
     ]
    }
   ],
   "source": [
    "\"\"\"Write a Python program\n",
    "to generate and print a list of first and \n",
    "last 5 elements where the values are square of numbers between 1 and 30. \"\"\"\n",
    "a=list()\n",
    "for i in range (1,30):\n",
    "    a.append(i**2)\n",
    "print(a[:5])\n",
    "print(a[-5:])"
   ]
  }
 ],
 "metadata": {
  "kernelspec": {
   "display_name": "Python 3 (ipykernel)",
   "language": "python",
   "name": "python3"
  },
  "language_info": {
   "codemirror_mode": {
    "name": "ipython",
    "version": 3
   },
   "file_extension": ".py",
   "mimetype": "text/x-python",
   "name": "python",
   "nbconvert_exporter": "python",
   "pygments_lexer": "ipython3",
   "version": "3.11.3"
  }
 },
 "nbformat": 4,
 "nbformat_minor": 5
}
