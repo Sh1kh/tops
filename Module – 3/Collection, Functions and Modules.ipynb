{
 "cells": [
  {
   "cell_type": "code",
   "execution_count": 7,
   "id": "080da46d",
   "metadata": {},
   "outputs": [
    {
     "name": "stdout",
     "output_type": "stream",
     "text": [
      "[2, 33, 222, 14]\n",
      "14\n"
     ]
    }
   ],
   "source": [
    "# to remove last object from list\n",
    "list=[2,33,222,14,25]\n",
    "list.pop()#remove last object\n",
    "print(list)\n",
    "print(list[-1])#return last object"
   ]
  },
  {
   "cell_type": "code",
   "execution_count": 4,
   "id": "21be3474",
   "metadata": {},
   "outputs": [
    {
     "name": "stdout",
     "output_type": "stream",
     "text": [
      "{1: 'one', 2: 'two', 3: 'three'}\n"
     ]
    }
   ],
   "source": [
    "#Write a Python program to map two lists into a dictionary  \n",
    "keys=[1,2,3]\n",
    "values=[\"one\",\"two\",\"three\"]\n",
    "add_dict = dict(zip(keys,values))\n",
    "print(add_dict)"
   ]
  },
  {
   "cell_type": "code",
   "execution_count": 16,
   "id": "e110cd2f",
   "metadata": {},
   "outputs": [
    {
     "name": "stdout",
     "output_type": "stream",
     "text": [
      "Counter({'a': 400, 'b': 400, 'd': 400, 'c': 300})\n"
     ]
    }
   ],
   "source": [
    "#Write a Python program to combine two dictionary adding values for common keys.\n",
    "from collections import Counter\n",
    "d1 = {'a': 100, 'b': 200, 'c':300} \n",
    "d2 = {'a': 300, 'b': 200,'d':400}\n",
    "dict= Counter(d1) + Counter(d2)\n",
    "print(dict)"
   ]
  },
  {
   "cell_type": "code",
   "execution_count": 13,
   "id": "149a3514",
   "metadata": {},
   "outputs": [
    {
     "name": "stdout",
     "output_type": "stream",
     "text": [
      "['c', 'a', 'd']\n"
     ]
    }
   ],
   "source": [
    "#Write a Python program to find the highest 3 values in a dictionary \n",
    "from heapq import nlargest\n",
    "m_dict={\"a\":200, \"b\":2, \"c\":500,\"d\":6}\n",
    "three_largest = nlargest(3, m_dict, key= m_dict.get)\n",
    "print(three_largest)"
   ]
  },
  {
   "cell_type": "code",
   "execution_count": 26,
   "id": "ff262fa9",
   "metadata": {},
   "outputs": [
    {
     "name": "stdout",
     "output_type": "stream",
     "text": [
      "{'item': 'item1', 'amount': 750}\n"
     ]
    }
   ],
   "source": [
    "#Write a Python program to combine values in python list of dictionaries.\n",
    "d=[{'item': 'item1', 'amount': 400}, {'item': 'item2', 'amount':  300}, {'item': 'item1', 'amount': 750}]\n",
    "d1={}\n",
    "for i in d:\n",
    "    d1.update(i)\n",
    "print(d1)"
   ]
  },
  {
   "cell_type": "code",
   "execution_count": 10,
   "id": "6e23b3f3",
   "metadata": {},
   "outputs": [
    {
     "name": "stdout",
     "output_type": "stream",
     "text": [
      "85\n",
      "21\n",
      "337\n"
     ]
    }
   ],
   "source": [
    "#python function to find  largest number, smallest number and sum of all from a list\n",
    "a=[22,55,21,42,47,65,85]\n",
    "print(max(a))#largest number\n",
    "print(min(a))#smallest number\n",
    "print(sum(a))#sum"
   ]
  },
  {
   "cell_type": "code",
   "execution_count": 12,
   "id": "454261cf",
   "metadata": {},
   "outputs": [
    {
     "name": "stdout",
     "output_type": "stream",
     "text": [
      "list is not empty\n"
     ]
    }
   ],
   "source": [
    "#program to check list is empty or not\n",
    "a=(\"hello\")\n",
    "if a == ():\n",
    "    print(\"list is empty\")\n",
    "    \n",
    "else:\n",
    "    print(\"list is not empty\")"
   ]
  },
  {
   "cell_type": "code",
   "execution_count": 2,
   "id": "a1e34838",
   "metadata": {},
   "outputs": [
    {
     "name": "stdout",
     "output_type": "stream",
     "text": [
      "vishal\n"
     ]
    }
   ],
   "source": [
    "#Write a Python program to select an item randomly from a list.  \n",
    "a=[\"shikha\",\"shruti\",\"vishal\",\"pooja\",\"seema\"]\n",
    "print(a[2])#randomly selecting item using indexing"
   ]
  },
  {
   "cell_type": "code",
   "execution_count": 27,
   "id": "4ff06ed8",
   "metadata": {},
   "outputs": [
    {
     "name": "stdout",
     "output_type": "stream",
     "text": [
      "['china']\n",
      "['delhi', 'america']\n",
      "['nepal']\n"
     ]
    }
   ],
   "source": [
    "#Write a Python program to split a list into different variables.\n",
    "a=[\"india\",\"china\",\"delhi\",\"america\",\"nepal\",\"punjab\"]\n",
    "var1=a[1:2]\n",
    "var2=a[2:4]\n",
    "var3=a[4:5]\n",
    "print( var1)\n",
    "print(var2)\n",
    "print(var3)"
   ]
  },
  {
   "cell_type": "code",
   "execution_count": 13,
   "id": "6bbd6f16",
   "metadata": {},
   "outputs": [
    {
     "name": "stdout",
     "output_type": "stream",
     "text": [
      "('apple', 'hello', 'banana', 10, 20, 30.5)\n"
     ]
    }
   ],
   "source": [
    "#tuple with different datatype\n",
    "tuple=(\"apple\",\"hello\",\"banana\",10,20,30.5)\n",
    "print(tuple)"
   ]
  },
  {
   "cell_type": "code",
   "execution_count": 14,
   "id": "355ccb7a",
   "metadata": {},
   "outputs": [
    {
     "name": "stdout",
     "output_type": "stream",
     "text": [
      "(20, 10.2, 50, 60, 40)\n"
     ]
    }
   ],
   "source": [
    "#tuple with number\n",
    "tuple=(20,10.2,50,60,40)\n",
    "print(tuple)"
   ]
  },
  {
   "cell_type": "code",
   "execution_count": 15,
   "id": "ceb95e5a",
   "metadata": {},
   "outputs": [
    {
     "name": "stdout",
     "output_type": "stream",
     "text": [
      "('apple', 'banana', 'mango', 'lichi')\n"
     ]
    }
   ],
   "source": [
    "#convert a tuple to a string\n",
    "a=(\"apple\",\"banana\",\"mango\",\"lichi\")\n",
    "print(a)"
   ]
  },
  {
   "cell_type": "code",
   "execution_count": 17,
   "id": "dcbd6ec6",
   "metadata": {},
   "outputs": [
    {
     "name": "stdout",
     "output_type": "stream",
     "text": [
      "4\n"
     ]
    }
   ],
   "source": [
    "# to find length of tuple\n",
    "a=(\"apple\",\"banana\",\"mango\",\"lichi\")\n",
    "print(len(a))"
   ]
  },
  {
   "cell_type": "code",
   "execution_count": 6,
   "id": "b9657e1d",
   "metadata": {},
   "outputs": [
    {
     "name": "stdout",
     "output_type": "stream",
     "text": [
      "('mango', 'apple', 'banana', 'orange', 'papaya')\n"
     ]
    }
   ],
   "source": [
    "#to convert a list to tuple\n",
    "a=[\"mango\",\"apple\",\"banana\",\"orange\",\"papaya\"]\n",
    "y=tuple(a)#list into tuple\n",
    "print(y)"
   ]
  },
  {
   "cell_type": "code",
   "execution_count": 27,
   "id": "82b818e5",
   "metadata": {},
   "outputs": [
    {
     "name": "stdout",
     "output_type": "stream",
     "text": [
      "('kolkata', 'mumbai', 'chennai', 'delhi')\n"
     ]
    }
   ],
   "source": [
    "#program to reverse a tuple\n",
    "a=(\"delhi\",\"chennai\",\"mumbai\",\"kolkata\")\n",
    "print(a[::-1])#reversing list using negative indexing"
   ]
  },
  {
   "cell_type": "code",
   "execution_count": 3,
   "id": "ec12b987",
   "metadata": {},
   "outputs": [
    {
     "name": "stdout",
     "output_type": "stream",
     "text": [
      "('delhi', 'kolkata', 'chennai', 'bengaluru', 'kerala')\n"
     ]
    }
   ],
   "source": [
    "#Write a Python program to replace last value of tuples in a list. \n",
    "a=(\"delhi\",\"kolkata\",\"chennai\",\"bengaluru\",\"punjab\")\n",
    "y=list(a)#convert tuple into list\n",
    "y[-1]=\"kerala\"\n",
    "a=tuple(y)#list into tuple\n",
    "print(a)"
   ]
  },
  {
   "cell_type": "code",
   "execution_count": 2,
   "id": "71f25479",
   "metadata": {},
   "outputs": [
    {
     "name": "stdout",
     "output_type": "stream",
     "text": [
      "enter the value of base20\n",
      "enter the value of height2\n",
      "40\n"
     ]
    }
   ],
   "source": [
    "#calculate the area of parallelogram\n",
    "base=int(input(\"enter the value of base\"))\n",
    "height=int(input(\"enter the value of height\"))\n",
    "a=base*height\n",
    "print(a)"
   ]
  },
  {
   "cell_type": "code",
   "execution_count": 7,
   "id": "9d2b1ee5",
   "metadata": {},
   "outputs": [
    {
     "name": "stdout",
     "output_type": "stream",
     "text": [
      "enter the value of r21\n",
      "enter the value of h5\n",
      "6923.7\n",
      "8572.199999999999\n"
     ]
    }
   ],
   "source": [
    "#calculate surface area and volume of cylinder\n",
    "r=int(input(\"enter the value of r\"))\n",
    "h=int(input(\"enter the value of h\"))\n",
    "volume=3.14*r*r*h\n",
    "print(volume)\n",
    "surface_area=3.14*r*h*(r+h)\n",
    "print(surface_area)\n",
    "\n"
   ]
  },
  {
   "cell_type": "code",
   "execution_count": 2,
   "id": "d3b0c873",
   "metadata": {},
   "outputs": [
    {
     "name": "stdout",
     "output_type": "stream",
     "text": [
      "number is not in a range\n"
     ]
    }
   ],
   "source": [
    "#Write a Python function to check whether a number is in a given range \n",
    "def test_range(num):\n",
    "    if num in range(20,30):\n",
    "        print(\"number is in a range\")\n",
    "    else:\n",
    "        print(\"number is not in a range\")\n",
    "test_range(45)"
   ]
  },
  {
   "cell_type": "code",
   "execution_count": 5,
   "id": "92c45c46",
   "metadata": {},
   "outputs": [
    {
     "name": "stdout",
     "output_type": "stream",
     "text": [
      "{'id': 1, 'name': 'shikha', 'gender': 'female', 'last_name': 'bansal'}\n"
     ]
    }
   ],
   "source": [
    "#Write a Python script to concatenate following dictionaries to create a new one.\n",
    "a={\"id\":1,\"name\":\"shikha\"}\n",
    "a.update({\"gender\":\"female\",\"last_name\":\"bansal\"})\n",
    "print(a)\n"
   ]
  },
  {
   "cell_type": "code",
   "execution_count": 9,
   "id": "edbb234a",
   "metadata": {},
   "outputs": [
    {
     "name": "stdout",
     "output_type": "stream",
     "text": [
      "[('apple', 'mango'), 'hello', ('abc', 'def')]\n"
     ]
    }
   ],
   "source": [
    "#Write a Python program to remove an empty tuple(s) from a list of tuples. \n",
    "a=[(\"apple\",\"mango\"),(),(\"hello\"),(\"abc\",\"def\")]\n",
    "a.remove(())\n",
    "print(a)"
   ]
  },
  {
   "cell_type": "code",
   "execution_count": 1,
   "id": "cd891e4e",
   "metadata": {},
   "outputs": [
    {
     "name": "stdout",
     "output_type": "stream",
     "text": [
      "[1, 4, 9, 16, 25]\n",
      "[625, 676, 729, 784, 841]\n"
     ]
    }
   ],
   "source": [
    "\"\"\"Write a Python program\n",
    "to generate and print a list of first and \n",
    "last 5 elements where the values are square of numbers between 1 and 30. \"\"\"\n",
    "a=list()\n",
    "for i in range (1,30):\n",
    "    a.append(i**2)\n",
    "print(a[:5])\n",
    "print(a[-5:])"
   ]
  },
  {
   "cell_type": "code",
   "execution_count": 2,
   "id": "6211ff9d",
   "metadata": {},
   "outputs": [],
   "source": [
    "\"\"\"\"Write a Python program to count the number of strings\n",
    "where the string length is 2 or more and the first and last character are same from a given list of strings. \"\"\"\n",
    "def match_word1(words):\n",
    "    char=0\n",
    "    for word in words:\n",
    "        if len(word)>1 and word[0] == word[-1]:\n",
    "            char+=1\n",
    "        return char\n",
    "    print(match_word1([\"abc\",\"xyz\",\"aba\",\"xyz\"]))"
   ]
  },
  {
   "cell_type": "code",
   "execution_count": 14,
   "id": "3b1c9f36",
   "metadata": {},
   "outputs": [
    {
     "name": "stdout",
     "output_type": "stream",
     "text": [
      "second smallest number: 3\n"
     ]
    }
   ],
   "source": [
    "#Write a Python program to find the second smallest number in a list.\n",
    "def find_len(list1):\n",
    "    length = len(list1)\n",
    "    list1.sort()\n",
    "    print(\"second smallest number:\", list1[1])\n",
    "list1=[5,3,5,1,8,3,9]\n",
    "find_len(list1)"
   ]
  },
  {
   "cell_type": "code",
   "execution_count": 20,
   "id": "a75c0094",
   "metadata": {},
   "outputs": [
    {
     "name": "stdout",
     "output_type": "stream",
     "text": [
      "{'india': 'delhi', 'china': 'belgium', 'nepal': 'kathmandu'}\n"
     ]
    }
   ],
   "source": [
    "#Write a Python program to convert a list of tuples into a dictionary. \n",
    "a=[(\"india\",\"delhi\"),(\"china\",\"belgium\"),(\"nepal\",\"kathmandu\")]\n",
    "print(dict(a))"
   ]
  },
  {
   "cell_type": "code",
   "execution_count": 17,
   "id": "218eee06",
   "metadata": {},
   "outputs": [
    {
     "name": "stdout",
     "output_type": "stream",
     "text": [
      "[1]\n"
     ]
    }
   ],
   "source": [
    "#Write a Python program to get unique values from a list  \n",
    "def unique_list(l):\n",
    "    x=[]\n",
    "    for a in l:\n",
    "        if a not in x:\n",
    "            x.append(a)\n",
    "            return x \n",
    "print (unique_list([1,2,3,3,3,4,5]))"
   ]
  },
  {
   "cell_type": "code",
   "execution_count": 4,
   "id": "756e1426",
   "metadata": {},
   "outputs": [
    {
     "name": "stdout",
     "output_type": "stream",
     "text": [
      "[(2, 3, 4), (1, 4, 5)]\n"
     ]
    }
   ],
   "source": [
    "#Write a Python program to unzip a list of tuples into individual lists.  \n",
    "list1=[(2,1),(3,4),(4,5)]\n",
    "print(list(zip(*list1)))"
   ]
  },
  {
   "cell_type": "code",
   "execution_count": 2,
   "id": "396cd37a",
   "metadata": {},
   "outputs": [
    {
     "name": "stdout",
     "output_type": "stream",
     "text": [
      "1000.0\n"
     ]
    }
   ],
   "source": [
    "#Write a Python program to calculate the area of a trapezoid \n",
    "def area_of_trapezoid(base1,base2,height):\n",
    "    #area of trapezoid\n",
    "    area =(base1+base2)*height/2 \n",
    "    print(area)\n",
    "area_of_trapezoid(20,30,40)"
   ]
  },
  {
   "cell_type": "code",
   "execution_count": 5,
   "id": "37e435fc",
   "metadata": {},
   "outputs": [
    {
     "name": "stdout",
     "output_type": "stream",
     "text": [
      "enter the degree20\n",
      "0.3492063492063492\n"
     ]
    }
   ],
   "source": [
    "#Write a Python program to convert degree to radian \n",
    "degree=float(input(\"enter the degree\"))\n",
    "pi=22/7\n",
    "radian=degree*(pi/180)\n",
    "print(radian)"
   ]
  },
  {
   "cell_type": "code",
   "execution_count": 15,
   "id": "03e7a016",
   "metadata": {},
   "outputs": [
    {
     "name": "stdout",
     "output_type": "stream",
     "text": [
      "False\n"
     ]
    }
   ],
   "source": [
    "#Write a Python function to check whether a number is perfect or not.\n",
    "def perfect_number(a):\n",
    "    sum =0\n",
    "    for i in range(1,a):\n",
    "        if a % i ==0:\n",
    "            sum+=i\n",
    "    return sum == a\n",
    "print(perfect_number(4))"
   ]
  },
  {
   "cell_type": "code",
   "execution_count": 14,
   "id": "9dcd3e55",
   "metadata": {},
   "outputs": [
    {
     "name": "stdout",
     "output_type": "stream",
     "text": [
      "ascending :  [(1, 2), (3, 4), (4, 5)]\n",
      "descending : {4: 5, 3: 4, 1: 2}\n"
     ]
    }
   ],
   "source": [
    "#Write a Python script to sort (ascending and descending) a dictionary by value\n",
    "import operator\n",
    "d={1:2,3:4,4:5}\n",
    "sort= sorted(d.items(),key=operator.itemgetter(1))\n",
    "print(\"ascending : \", sort)\n",
    "sort= dict(sorted(d.items(),key=operator.itemgetter(1),reverse= True))\n",
    "print(\"descending :\", sort)"
   ]
  },
  {
   "cell_type": "code",
   "execution_count": 15,
   "id": "048626f4",
   "metadata": {},
   "outputs": [
    {
     "name": "stdout",
     "output_type": "stream",
     "text": [
      "{'china', 'india', 'nepal'}\n"
     ]
    }
   ],
   "source": [
    "#Write a Python program to print all unique values in a dictionary.\n",
    "d={\"india\":\"delhi\",\"india\":\"punjab\",\"nepal\":\"kathmandu\",\"china\":\"shanghai\"}\n",
    "unique_value=set(d)\n",
    "print(unique_value)\n"
   ]
  },
  {
   "cell_type": "code",
   "execution_count": 18,
   "id": "27e36097",
   "metadata": {},
   "outputs": [
    {
     "name": "stdout",
     "output_type": "stream",
     "text": [
      "factorial of 0 is 1\n"
     ]
    }
   ],
   "source": [
    "#Write a Python function to calculate the factorial of a number (a nonnegative integer)  \n",
    "def factorial(num):\n",
    "    if num<0:\n",
    "        print(\"factorial of a number does not exist\")\n",
    "    elif num==0:\n",
    "        print(\"factorial of 0 is 1\")\n",
    "    else:\n",
    "        for i in range(1,num+1):\n",
    "            factorial=num*i\n",
    "            print(\"factorial of num is\", factorial)\n",
    "factorial(0)"
   ]
  },
  {
   "cell_type": "code",
   "execution_count": 5,
   "id": "baaaf95c",
   "metadata": {},
   "outputs": [
    {
     "name": "stdout",
     "output_type": "stream",
     "text": [
      "enter the value of aeye\n",
      "string is palindrome\n"
     ]
    }
   ],
   "source": [
    "#Write a Python function that checks whether a passed string is palindrome or not \n",
    "def palindrome(a):\n",
    "    if a == a[::-1]:\n",
    "        print(\"string is palindrome\")\n",
    "    else:\n",
    "        print(\"string is not palindrome\")\n",
    "a= str(input(\"enter the value of a\"))\n",
    "palindrome(a)"
   ]
  },
  {
   "cell_type": "code",
   "execution_count": 19,
   "id": "2472d12c",
   "metadata": {},
   "outputs": [
    {
     "name": "stdout",
     "output_type": "stream",
     "text": [
      "Enter the Number20\n",
      "Sum of All Divisors : 22\n"
     ]
    }
   ],
   "source": [
    "#Write a Python program to returns sum of all divisors of a number \n",
    "num = int(input(\"Enter the Number\"))\n",
    "divisor = [1]\n",
    "for i in range(2, num):\n",
    "    if (num % i)==0:\n",
    "        divisor.append(i)\n",
    "print(\"Sum of All Divisors :\",sum(divisor))"
   ]
  },
  {
   "cell_type": "code",
   "execution_count": 20,
   "id": "c82769f0",
   "metadata": {},
   "outputs": [
    {
     "name": "stdout",
     "output_type": "stream",
     "text": [
      "89.67\n",
      "0.34\n"
     ]
    }
   ],
   "source": [
    "#Write a Python program to find the maximum and minimum numbers from the specified decimal numbers.\n",
    "a=23.45,67.23,1.45,89.67,0.34\n",
    "print(max(a))\n",
    "print(min(a))"
   ]
  },
  {
   "cell_type": "code",
   "execution_count": 1,
   "id": "f2b3ae9f",
   "metadata": {},
   "outputs": [
    {
     "name": "stdout",
     "output_type": "stream",
     "text": [
      "{1: 1, 2: 4, 3: 9, 4: 16, 5: 25, 6: 36, 7: 49, 8: 64, 9: 81, 10: 100, 11: 121, 12: 144, 13: 169, 14: 196, 15: 225}\n"
     ]
    }
   ],
   "source": [
    "#Write a Python script to print a dictionary where the keys are numbers between 1 and 15.  \n",
    "d=dict()\n",
    "for x in range(1,16):\n",
    "    d[x]=x**2\n",
    "print(d)"
   ]
  }
 ],
 "metadata": {
  "kernelspec": {
   "display_name": "Python 3 (ipykernel)",
   "language": "python",
   "name": "python3"
  },
  "language_info": {
   "codemirror_mode": {
    "name": "ipython",
    "version": 3
   },
   "file_extension": ".py",
   "mimetype": "text/x-python",
   "name": "python",
   "nbconvert_exporter": "python",
   "pygments_lexer": "ipython3",
   "version": "3.11.3"
  }
 },
 "nbformat": 4,
 "nbformat_minor": 5
}
