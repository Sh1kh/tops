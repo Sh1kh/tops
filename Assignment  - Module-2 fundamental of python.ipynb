{
 "cells": [
  {
   "cell_type": "code",
   "execution_count": 1,
   "id": "a37de6d1",
   "metadata": {},
   "outputs": [
    {
     "name": "stdout",
     "output_type": "stream",
     "text": [
      "enter the value of a20\n",
      "number is positive\n"
     ]
    }
   ],
   "source": [
    "#program to check number is positive, negative, or zero\n",
    "a=int(input(\"enter the value of a\"))\n",
    "if a>0:\n",
    "    print(\"number is positive\")\n",
    "elif a<0:\n",
    "    print(\"number is negative\")\n",
    "else:\n",
    "    print(\"number is zero\")"
   ]
  },
  {
   "cell_type": "code",
   "execution_count": 4,
   "id": "d531e2ca",
   "metadata": {},
   "outputs": [
    {
     "name": "stdout",
     "output_type": "stream",
     "text": [
      "enter the value of num3\n",
      "the factorail of 3 is 1\n",
      "the factorail of 3 is 2\n",
      "the factorail of 3 is 6\n"
     ]
    }
   ],
   "source": [
    "#program to get factorial of number\n",
    "num= int(input(\"enter the value of num\"))\n",
    "factorial=1\n",
    "if num<0:\n",
    "    print(\"factorial doesnot exit for negarive number\")\n",
    "elif num==0:\n",
    "    print(\"factorial of 0 is 1\")\n",
    "else:\n",
    "    for i in range(1,num+1):\n",
    "        factorial =factorial*i\n",
    "        print(\"the factorail of\", num , \"is\", factorial)"
   ]
  },
  {
   "cell_type": "code",
   "execution_count": null,
   "id": "6678a430",
   "metadata": {},
   "outputs": [],
   "source": [
    "#fibonacci series\n",
    "nterms = int(input(\"how many term?\"))\n",
    "#first two terms\n",
    "n1,n2 =0,1\n",
    "count=0\n",
    "#check if the number of item is valid\n",
    "if nterms <=0:\n",
    "    print(\"enter the positive integer\")\n",
    "#if there is only one term, return n1\n",
    "\n",
    "elif nterms==1:\n",
    "    print(\"fibonacci sequence upto\", nterms,\":\")\n",
    "    print(n1)\n",
    "    \n",
    "#generate fibonacci sequence:\n",
    "else:\n",
    "    print(\"fibonacci sequence:\")\n",
    "    while count < nterms:\n",
    "        print(n1)\n",
    "        nth= n1+n2\n",
    "        \n",
    "#update values\n",
    "n1 = n2\n",
    "n2=nth\n",
    "count+=1"
   ]
  },
  {
   "cell_type": "code",
   "execution_count": 5,
   "id": "ef17ddda",
   "metadata": {},
   "outputs": [
    {
     "name": "stdout",
     "output_type": "stream",
     "text": [
      "20\n",
      "10\n"
     ]
    }
   ],
   "source": [
    "#Swap with variable\n",
    "a=10\n",
    "b=20\n",
    "temp=a\n",
    "a=b\n",
    "b=temp\n",
    "print(a)\n",
    "print(b)\n"
   ]
  },
  {
   "cell_type": "code",
   "execution_count": 6,
   "id": "1037f6dd",
   "metadata": {},
   "outputs": [
    {
     "name": "stdout",
     "output_type": "stream",
     "text": [
      "20\n",
      "10\n"
     ]
    }
   ],
   "source": [
    "#Swap without variable\n",
    "a=10\n",
    "b=20\n",
    "a,b=b,a\n",
    "print(a)\n",
    "print(b)"
   ]
  },
  {
   "cell_type": "code",
   "execution_count": 7,
   "id": "d15a453d",
   "metadata": {},
   "outputs": [
    {
     "name": "stdout",
     "output_type": "stream",
     "text": [
      "enter the value of a30\n",
      "a is even\n"
     ]
    }
   ],
   "source": [
    "#number is even or odd\n",
    "a=int(input(\"enter the value of a\"))\n",
    "if a %2 ==0:\n",
    "    print(\"a is even\")\n",
    "else:\n",
    "    print(\"a is odd\")"
   ]
  },
  {
   "cell_type": "code",
   "execution_count": 2,
   "id": "b64d753e",
   "metadata": {},
   "outputs": [
    {
     "name": "stdout",
     "output_type": "stream",
     "text": [
      "enter the value of chara\n",
      "char is vowel\n"
     ]
    }
   ],
   "source": [
    "#letter is vowel or not\n",
    "char=input(\"enter the value of char\")\n",
    "if char in \"a,e,i,o,u\":\n",
    "    print(\"char is vowel\")\n",
    "else:\n",
    "    print(\"char is consonant\")"
   ]
  },
  {
   "cell_type": "code",
   "execution_count": 1,
   "id": "881a4eb9",
   "metadata": {},
   "outputs": [
    {
     "name": "stdout",
     "output_type": "stream",
     "text": [
      "enter the a30\n",
      "enter the b40\n",
      "enter the c50\n",
      "120\n"
     ]
    }
   ],
   "source": [
    "# python program to sum of three given integers.however two values are equal sum will be zero\n",
    "a=int(input(\"enter the a\"))\n",
    "b=int(input(\"enter the b\"))\n",
    "c=int(input(\"enter the c\"))\n",
    "if a==b or b==c or c==a:\n",
    "    sum = 0\n",
    "else:\n",
    "    sum=a+b+c\n",
    "    print(sum)"
   ]
  },
  {
   "cell_type": "code",
   "execution_count": 4,
   "id": "021a9986",
   "metadata": {},
   "outputs": [
    {
     "name": "stdout",
     "output_type": "stream",
     "text": [
      "enter the a2\n",
      "enter the b3\n",
      "true\n"
     ]
    }
   ],
   "source": [
    "#python progarm to return true if two given number value are equal or their difference is 5\n",
    "a=int(input(\"enter the a\"))\n",
    "b=int(input(\"enter the b\"))\n",
    "if (a==b) or abs(a-b)==5 or (a+b)==5:\n",
    "    print(\"true\")\n",
    "else:\n",
    "    print(\"false\")"
   ]
  },
  {
   "cell_type": "code",
   "execution_count": 5,
   "id": "c909f435",
   "metadata": {},
   "outputs": [
    {
     "name": "stdout",
     "output_type": "stream",
     "text": [
      "210\n"
     ]
    }
   ],
   "source": [
    "#sum of n natural numbers\n",
    "n=20\n",
    "print(int(n*(n+1)/2))\n"
   ]
  },
  {
   "cell_type": "code",
   "execution_count": null,
   "id": "1e4b84ea",
   "metadata": {},
   "outputs": [],
   "source": [
    "#length of string\n",
    "a=(\"apple\",\"mango\",\"banana\")\n",
    "print(len(a))"
   ]
  },
  {
   "cell_type": "code",
   "execution_count": 6,
   "id": "491623fb",
   "metadata": {},
   "outputs": [
    {
     "name": "stdout",
     "output_type": "stream",
     "text": [
      "pinapple\n"
     ]
    }
   ],
   "source": [
    "#Longest\n",
    "a=[\"apple\",\"mango\",\"pinapple\",\"orange\"]\n",
    "print(max(a))"
   ]
  },
  {
   "cell_type": "code",
   "execution_count": 7,
   "id": "7f5b5bb8",
   "metadata": {},
   "outputs": [
    {
     "name": "stdout",
     "output_type": "stream",
     "text": [
      "['add', 'division', 'subtract', 'factor', 'multiplication']\n"
     ]
    }
   ],
   "source": [
    "#to insert string in middle of string\n",
    "a=[\"add\",\"subtract\",\"factor\",\"multiplication\"]\n",
    "a.insert(1,\"division\")\n",
    "print(a)"
   ]
  },
  {
   "cell_type": "code",
   "execution_count": 9,
   "id": "0fa158aa",
   "metadata": {},
   "outputs": [
    {
     "name": "stdout",
     "output_type": "stream",
     "text": [
      "('apple', 'mango', 'pinapple', 'orange', 'grapes')\n"
     ]
    }
   ],
   "source": [
    "#python program to get a single string from two string,separated by space \n",
    "a=(\"apple\",\"mango\",\"pinapple\")\n",
    "b=(\"orange\",\"grapes\")\n",
    "a\n",
    "print(a)"
   ]
  },
  {
   "cell_type": "code",
   "execution_count": 10,
   "id": "f339b330",
   "metadata": {},
   "outputs": [
    {
     "name": "stdout",
     "output_type": "stream",
     "text": [
      "Reverse order of the String =  ('hello', 'orange', 'yellow', 'pink', 'science', 'pink', 'mango', 'apple')\n"
     ]
    }
   ],
   "source": [
    "#python program to reverse a string if its length is multiple of 4\n",
    "a=\"apple\",\"mango\",\"pink\",\"science\",\"pink\",\"yellow\",\"orange\",\"hello\"\n",
    "if (len(a) % 4 == 0):\n",
    "    print(\"Reverse order of the String = \", a[::-1])\n",
    "else:\n",
    "    print(\"same\")\n",
    "    "
   ]
  },
  {
   "cell_type": "code",
   "execution_count": null,
   "id": "b7f96738",
   "metadata": {},
   "outputs": [],
   "source": []
  }
 ],
 "metadata": {
  "kernelspec": {
   "display_name": "Python 3 (ipykernel)",
   "language": "python",
   "name": "python3"
  },
  "language_info": {
   "codemirror_mode": {
    "name": "ipython",
    "version": 3
   },
   "file_extension": ".py",
   "mimetype": "text/x-python",
   "name": "python",
   "nbconvert_exporter": "python",
   "pygments_lexer": "ipython3",
   "version": "3.11.3"
  }
 },
 "nbformat": 4,
 "nbformat_minor": 5
}
